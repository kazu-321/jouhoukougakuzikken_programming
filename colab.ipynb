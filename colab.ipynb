{
  "nbformat": 4,
  "nbformat_minor": 0,
  "metadata": {
    "colab": {
      "provenance": []
    },
    "kernelspec": {
      "name": "python3",
      "display_name": "Python 3"
    },
    "language_info": {
      "name": "python"
    }
  },
  "cells": [
    {
      "cell_type": "code",
      "execution_count": 4,
      "metadata": {
        "colab": {
          "base_uri": "https://localhost:8080/"
        },
        "id": "iKTfKvvP9Q0n",
        "outputId": "567393fa-bb28-47d4-e5f1-bcac3fad2966"
      },
      "outputs": [
        {
          "output_type": "stream",
          "name": "stdout",
          "text": [
            "fatal: destination path 'jouhoukougakuzikken_programming' already exists and is not an empty directory.\n"
          ]
        }
      ],
      "source": [
        "!git clone https://github.com/kazu-321/jouhoukougakuzikken_programming.git"
      ]
    },
    {
      "cell_type": "code",
      "source": [
        "!cd jouhoukougakuzikken_programming && gcc main.c input.c sort.c"
      ],
      "metadata": {
        "id": "nEDVBKuX-NF8"
      },
      "execution_count": 5,
      "outputs": []
    },
    {
      "cell_type": "code",
      "source": [
        "!./jouhoukougakuzikken_programming/a.out"
      ],
      "metadata": {
        "colab": {
          "base_uri": "https://localhost:8080/"
        },
        "id": "UQ5n2MIn-R2h",
        "outputId": "5640d72f-ae6e-415a-d92b-bc519ad9d79c"
      },
      "execution_count": 7,
      "outputs": [
        {
          "output_type": "stream",
          "name": "stdout",
          "text": [
            "Welcome to medal ranking system\n",
            "type help to show help\n",
            "$ ^C\n"
          ]
        }
      ]
    },
    {
      "cell_type": "code",
      "source": [
        "!./jouhoukougakuzikken_programming/a.out debug"
      ],
      "metadata": {
        "id": "fjgRT_SV-XT7"
      },
      "execution_count": null,
      "outputs": []
    }
  ]
}