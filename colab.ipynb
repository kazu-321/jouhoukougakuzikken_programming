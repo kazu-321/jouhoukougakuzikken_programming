{
  "cells": [
    {
      "cell_type": "markdown",
      "metadata": {},
      "source": [
        "実行手順\n",
        "上から順番に実行ボタンを押します"
      ]
    },
    {
      "cell_type": "code",
      "execution_count": null,
      "metadata": {},
      "outputs": [],
      "source": [
        "!git clone https://github.com/kazu-321/jouhoukougakuzikken_programming.git"
      ]
    },
    {
      "cell_type": "code",
      "execution_count": null,
      "metadata": {},
      "outputs": [],
      "source": [
        "!cd jouhoukougakuzikken_programming && git fetch && git reset --hard origin/main"
      ]
    },
    {
      "cell_type": "code",
      "execution_count": 5,
      "metadata": {
        "id": "nEDVBKuX-NF8"
      },
      "outputs": [],
      "source": [
        "!cd jouhoukougakuzikken_programming && ./build.sh"
      ]
    },
    {
      "cell_type": "code",
      "execution_count": null,
      "metadata": {
        "colab": {
          "base_uri": "https://localhost:8080/"
        },
        "id": "UQ5n2MIn-R2h",
        "outputId": "5640d72f-ae6e-415a-d92b-bc519ad9d79c"
      },
      "outputs": [],
      "source": [
        "!./jouhoukougakuzikken_programming/a.out"
      ]
    },
    {
      "cell_type": "code",
      "execution_count": null,
      "metadata": {
        "id": "fjgRT_SV-XT7"
      },
      "outputs": [],
      "source": [
        "!./jouhoukougakuzikken_programming/a.out debug"
      ]
    }
  ],
  "metadata": {
    "colab": {
      "provenance": []
    },
    "kernelspec": {
      "display_name": "Python 3",
      "name": "python3"
    },
    "language_info": {
      "name": "python"
    }
  },
  "nbformat": 4,
  "nbformat_minor": 0
}
